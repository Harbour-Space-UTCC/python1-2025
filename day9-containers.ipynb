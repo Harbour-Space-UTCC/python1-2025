{
 "cells": [
  {
   "cell_type": "markdown",
   "id": "61c559c9",
   "metadata": {},
   "source": [
    "# Day 9 - List"
   ]
  },
  {
   "cell_type": "markdown",
   "id": "de272f6b",
   "metadata": {},
   "source": [
    "String -> Sqeuence of characters\n",
    "\n",
    "List -> Sequence of objects"
   ]
  },
  {
   "cell_type": "code",
   "execution_count": 1,
   "id": "fea8fad3",
   "metadata": {},
   "outputs": [],
   "source": [
    "empty_list = []\n",
    "empty_list = list()\n",
    "\n",
    "numbers = [1, 2, 3, 4]\n",
    "my_list = [1, 0.2, True, \"Vetit\", None, [], [1, 2], print, int, range]\n",
    "\n",
    "# C lang\n",
    "# int[10] arr = [1, 2, 3, 4, 5, 6, 7, 8, 9, 10];"
   ]
  },
  {
   "cell_type": "code",
   "execution_count": 11,
   "id": "0f708d1b",
   "metadata": {},
   "outputs": [
    {
     "name": "stdout",
     "output_type": "stream",
     "text": [
      "[1, 2, 3, 4]\n"
     ]
    }
   ],
   "source": [
    "numbers = [1, 2, 3, 4]\n",
    "# print(len(numbers))\n",
    "# print(numbers[1])\n",
    "# print(numbers[-1])\n",
    "# print(numbers[1:3]) # [2, 3]\n",
    "# print(numbers[::-1])\n",
    "# numbers.reverse() # in-place replacement (in-place operations)\n",
    "print(numbers)"
   ]
  },
  {
   "cell_type": "code",
   "execution_count": 16,
   "id": "ce080a94",
   "metadata": {},
   "outputs": [
    {
     "name": "stdout",
     "output_type": "stream",
     "text": [
      "[1, 2, 3]\n",
      "2\n",
      "3\n",
      "[5, 6, 7, 8, 9, 10]\n"
     ]
    }
   ],
   "source": [
    "matrix = [[1, 2, 3], [4, 5, 6, 7, 8, 9, 10]]\n",
    "print(matrix[0])\n",
    "print(len(matrix))\n",
    "print(matrix[0][2])\n",
    "print(matrix[1][1:])"
   ]
  },
  {
   "cell_type": "markdown",
   "id": "60f34efb",
   "metadata": {},
   "source": [
    "## Modifying list"
   ]
  },
  {
   "cell_type": "markdown",
   "id": "be1a275b",
   "metadata": {},
   "source": [
    "Adding element"
   ]
  },
  {
   "cell_type": "code",
   "execution_count": null,
   "id": "9932b640",
   "metadata": {},
   "outputs": [
    {
     "name": "stdout",
     "output_type": "stream",
     "text": [
      "[1, 2, 3, 4, 5, 6]\n"
     ]
    }
   ],
   "source": [
    "numbers = [1, 2, 3]\n",
    "\n",
    "# [1, 2, 3, 4]\n",
    "# numbers.append(4) # in-place replacement/operation\n",
    "\n",
    "\"\"\"\n",
    "These three lines are the same\n",
    "\"\"\"\n",
    "# numbers.extend([4])\n",
    "# numbers += [4]\n",
    "# numbers = numbers + [4]\n",
    "\n",
    "# numbers.insert(0, 4)\n",
    "print(numbers)"
   ]
  },
  {
   "cell_type": "code",
   "execution_count": 32,
   "id": "e2df10b7",
   "metadata": {},
   "outputs": [
    {
     "name": "stdout",
     "output_type": "stream",
     "text": [
      "[[1, 2, 3], [4, 5, 6]]\n"
     ]
    }
   ],
   "source": [
    "a = [1, 2, 3]\n",
    "b = [4, 5, 6]\n",
    "c = []\n",
    "c.extend([a, b])\n",
    "# [1, 2, 3, 4, 5, 6]\n",
    "# [[1, 2, 3], [4, 5, 6]]\n",
    "print(c)"
   ]
  },
  {
   "cell_type": "markdown",
   "id": "86e7ab45",
   "metadata": {},
   "source": [
    "Remove"
   ]
  },
  {
   "cell_type": "code",
   "execution_count": null,
   "id": "22e6ff45",
   "metadata": {},
   "outputs": [
    {
     "name": "stdout",
     "output_type": "stream",
     "text": [
      "[2, 3]\n"
     ]
    }
   ],
   "source": [
    "numbers = [4, 2, 3, 4]\n",
    "\n",
    "numbers.remove(4)\n",
    "print(numbers)"
   ]
  },
  {
   "cell_type": "code",
   "execution_count": 40,
   "id": "a0f3c80b",
   "metadata": {},
   "outputs": [
    {
     "name": "stdout",
     "output_type": "stream",
     "text": [
      "[4, 3, 4]\n"
     ]
    }
   ],
   "source": [
    "numbers = [4, 2, 3, 4]\n",
    "numbers.pop(1)\n",
    "print(numbers)"
   ]
  },
  {
   "cell_type": "code",
   "execution_count": null,
   "id": "d11f17b0",
   "metadata": {},
   "outputs": [],
   "source": [
    "# Create a list from 1-100\n",
    "# Remove the odd numbers that is divisible by 3\n",
    "# final_list -> [1, 2, 4, 5, 6, 7, 8, 10, 11, 12, ...]\n",
    "# count how many numbers left "
   ]
  },
  {
   "cell_type": "code",
   "execution_count": 48,
   "id": "b630528f",
   "metadata": {},
   "outputs": [
    {
     "name": "stdout",
     "output_type": "stream",
     "text": [
      "83\n"
     ]
    }
   ],
   "source": [
    "numbers = []\n",
    "for num in range(1, 101):\n",
    "    numbers.append(num)\n",
    "\n",
    "for num in numbers:\n",
    "    if num % 2 != 0 and num % 3 == 0:\n",
    "        numbers.remove(num)\n",
    "print(len(numbers))"
   ]
  },
  {
   "cell_type": "markdown",
   "id": "f5450636",
   "metadata": {},
   "source": [
    "$\\neg(p \\wedge q) \\equiv \\neg p \\vee \\neg q$"
   ]
  },
  {
   "cell_type": "code",
   "execution_count": 55,
   "id": "1e4a29b4",
   "metadata": {},
   "outputs": [
    {
     "name": "stdout",
     "output_type": "stream",
     "text": [
      "[1, 2, 4, 5, 6, 7, 8, 10, 11, 12, 13, 14, 16, 17, 18, 19, 20, 22, 23, 24, 25, 26, 28, 29, 30, 31, 32, 34, 35, 36, 37, 38, 40, 41, 42, 43, 44, 46, 47, 48, 49, 50, 52, 53, 54, 55, 56, 58, 59, 60, 61, 62, 64, 65, 66, 67, 68, 70, 71, 72, 73, 74, 76, 77, 78, 79, 80, 82, 83, 84, 85, 86, 88, 89, 90, 91, 92, 94, 95, 96, 97, 98, 100]\n"
     ]
    }
   ],
   "source": [
    "numbers = []\n",
    "for num in range(1, 101):\n",
    "    if num % 2 == 0 or num % 3 != 0:\n",
    "        numbers.append(num)\n",
    "\n",
    "print(numbers)"
   ]
  },
  {
   "cell_type": "markdown",
   "id": "04ab3e8c",
   "metadata": {},
   "source": [
    "List Comprehension"
   ]
  },
  {
   "cell_type": "code",
   "execution_count": null,
   "id": "3b24a591",
   "metadata": {},
   "outputs": [
    {
     "name": "stdout",
     "output_type": "stream",
     "text": [
      "[1, 2, 4, 5, 6, 7, 8, 10, 11, 12, 13, 14, 16, 17, 18, 19, 20, 22, 23, 24, 25, 26, 28, 29, 30, 31, 32, 34, 35, 36, 37, 38, 40, 41, 42, 43, 44, 46, 47, 48, 49, 50, 52, 53, 54, 55, 56, 58, 59, 60, 61, 62, 64, 65, 66, 67, 68, 70, 71, 72, 73, 74, 76, 77, 78, 79, 80, 82, 83, 84, 85, 86, 88, 89, 90, 91, 92, 94, 95, 96, 97, 98, 100]\n"
     ]
    }
   ],
   "source": [
    "numbers = [num for num in range(1, 101) if \\\n",
    "    (num % 2 == 0 or num % 3 != 0)]\n",
    "print(numbers)"
   ]
  },
  {
   "cell_type": "code",
   "execution_count": null,
   "id": "8938a667",
   "metadata": {},
   "outputs": [
    {
     "name": "stdout",
     "output_type": "stream",
     "text": [
      "[0, 1, 2, 3, 4]\n",
      "[0, 1, 2, 3, 4]\n"
     ]
    }
   ],
   "source": [
    "# List comprehension\n",
    "numbers = [element for element in range(5)]\n",
    "print(numbers)\n",
    "\n",
    "# Traditional\n",
    "numbers = []\n",
    "for element in range(5):\n",
    "    numbers.append(element)\n",
    "print(numbers)"
   ]
  },
  {
   "cell_type": "markdown",
   "id": "f409c586",
   "metadata": {},
   "source": [
    "Loop in list"
   ]
  },
  {
   "cell_type": "code",
   "execution_count": 50,
   "id": "4e15b974",
   "metadata": {},
   "outputs": [
    {
     "name": "stdout",
     "output_type": "stream",
     "text": [
      "1\n",
      "2\n",
      "3\n",
      "4\n",
      "0 1\n",
      "1 2\n",
      "2 3\n",
      "3 4\n"
     ]
    }
   ],
   "source": [
    "my_list = [1, 2, 3, 4]\n",
    "for element in my_list:\n",
    "    print(element)\n",
    "\n",
    "for index, element in enumerate(my_list):\n",
    "    print(index, element)"
   ]
  },
  {
   "cell_type": "code",
   "execution_count": null,
   "id": "9232dc70",
   "metadata": {},
   "outputs": [],
   "source": []
  }
 ],
 "metadata": {
  "kernelspec": {
   "display_name": "python3_ml",
   "language": "python",
   "name": "python3"
  },
  "language_info": {
   "codemirror_mode": {
    "name": "ipython",
    "version": 3
   },
   "file_extension": ".py",
   "mimetype": "text/x-python",
   "name": "python",
   "nbconvert_exporter": "python",
   "pygments_lexer": "ipython3",
   "version": "3.13.5"
  }
 },
 "nbformat": 4,
 "nbformat_minor": 5
}
