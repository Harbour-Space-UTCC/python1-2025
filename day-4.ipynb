{
 "cells": [
  {
   "cell_type": "markdown",
   "id": "91b77fde",
   "metadata": {},
   "source": [
    "## Day 4"
   ]
  },
  {
   "cell_type": "markdown",
   "id": "5fa7b02d",
   "metadata": {},
   "source": [
    "30 Celcius -> 86 Farenheit"
   ]
  },
  {
   "cell_type": "code",
   "execution_count": null,
   "id": "51038a6a",
   "metadata": {},
   "outputs": [],
   "source": []
  }
 ],
 "metadata": {
  "kernelspec": {
   "display_name": "python3_ml",
   "language": "python",
   "name": "python3"
  },
  "language_info": {
   "name": "python",
   "version": "3.13.5"
  }
 },
 "nbformat": 4,
 "nbformat_minor": 5
}
