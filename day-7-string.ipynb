{
 "cells": [
  {
   "cell_type": "markdown",
   "id": "68131a6e",
   "metadata": {},
   "source": [
    "# Day 7"
   ]
  },
  {
   "cell_type": "markdown",
   "id": "5c7ce848",
   "metadata": {},
   "source": [
    "String? "
   ]
  },
  {
   "cell_type": "code",
   "execution_count": 2,
   "id": "7312acb0",
   "metadata": {},
   "outputs": [
    {
     "data": {
      "text/plain": [
       "''"
      ]
     },
     "execution_count": 2,
     "metadata": {},
     "output_type": "execute_result"
    }
   ],
   "source": [
    "# String is a data type that stores characters\n",
    "empty_string = \"\"\n",
    "empty_string = ''\n",
    "empty_string = str()\n",
    "empty_string = \"\"\"\"\"\"\n",
    "\n",
    "empty_string"
   ]
  },
  {
   "cell_type": "code",
   "execution_count": 8,
   "id": "77a3a17f",
   "metadata": {},
   "outputs": [
    {
     "name": "stdout",
     "output_type": "stream",
     "text": [
      "She said that \"I'm a boy\"\n"
     ]
    }
   ],
   "source": [
    "name = \"Vetit\"\n",
    "name = \"\"\"\n",
    "Cheetah loves Kam\n",
    "Cheetah loves Ve\n",
    "Cheetah loves Shin made in China\n",
    "\"\"\"\n",
    "\n",
    "\n",
    "# sentence = 'I'm a boy'\n",
    "sentence = \"I'm a boy\"\n",
    "sentence = 'I\\'m a boy'\n",
    "sentence = \"\"\"I'm a boy\"\"\"\n",
    "\n",
    "quote = \"She said that \\\"I\\'m a boy\\\"\"\n",
    "print(quote)"
   ]
  },
  {
   "cell_type": "markdown",
   "id": "6f183f4f",
   "metadata": {},
   "source": [
    "Concatenation"
   ]
  },
  {
   "cell_type": "code",
   "execution_count": 15,
   "id": "a40db17e",
   "metadata": {},
   "outputs": [
    {
     "name": "stdout",
     "output_type": "stream",
     "text": [
      "Hello Shin the Chinese boy\n"
     ]
    }
   ],
   "source": [
    "word1 = \"Hello\"\n",
    "word2 = \"Shin\"\n",
    "word3 = \"the\"\n",
    "word4 = \"Chinese\"\n",
    "word5 = \"boy\"\n",
    "\n",
    "# Hello Shin the Chinese boy\n",
    "print(word1 + \" \" + word2 + \" \" + word3 + \" \" + word4 + \" \" + word5) "
   ]
  },
  {
   "cell_type": "markdown",
   "id": "178f8f4d",
   "metadata": {},
   "source": [
    "Format String"
   ]
  },
  {
   "cell_type": "code",
   "execution_count": 21,
   "id": "7b378ba1",
   "metadata": {},
   "outputs": [
    {
     "name": "stdout",
     "output_type": "stream",
     "text": [
      "16\n",
      "Hello Shin the Chinese boy\n"
     ]
    }
   ],
   "source": [
    "number = 2 ** 4\n",
    "sentence = f\"{number}\"\n",
    "print(sentence)\n",
    "\n",
    "# Hello Shin the Chinese boy\n",
    "print(f\"{word1} {word2} {word3} {word4} {word5}\")"
   ]
  },
  {
   "cell_type": "code",
   "execution_count": 25,
   "id": "38aa5b85",
   "metadata": {},
   "outputs": [
    {
     "data": {
      "text/plain": [
       "'Hello Shin the Chinese boy'"
      ]
     },
     "execution_count": 25,
     "metadata": {},
     "output_type": "execute_result"
    }
   ],
   "source": [
    "# Advance\n",
    "\" \".join([word1, word2, word3, word4, word5])"
   ]
  },
  {
   "cell_type": "markdown",
   "id": "807ff714",
   "metadata": {},
   "source": [
    "Multiply String"
   ]
  },
  {
   "cell_type": "code",
   "execution_count": 32,
   "id": "f8233887",
   "metadata": {},
   "outputs": [
    {
     "name": "stdout",
     "output_type": "stream",
     "text": [
      "cheetahcheetahcheetah\n",
      "\n",
      "\n"
     ]
    }
   ],
   "source": [
    "name = \"cheetah\"\n",
    "print(name * 3)\n",
    "print(name * 0)\n",
    "print(name * -2)\n",
    "# print(name * 1.0)\n",
    "# print(name * \"3\")"
   ]
  },
  {
   "cell_type": "code",
   "execution_count": 47,
   "id": "7cacaae2",
   "metadata": {},
   "outputs": [
    {
     "name": "stdout",
     "output_type": "stream",
     "text": [
      "7\n",
      "8\n",
      "Bangkok, Thailand: 100C 23\n",
      "25\n"
     ]
    }
   ],
   "source": [
    "name = \"cheetah\"\n",
    "print(len(name))\n",
    "\n",
    "name = \"cheetah \"\n",
    "print(len(name))\n",
    "\n",
    "name = \"Bangkok, Thailand: 100C\"\n",
    "print(name, len(name))\n",
    "\n",
    "name = \"\"\"Bangkok,\n",
    "Thailand .\n",
    "100C\n",
    "\"\"\"\n",
    "print(len(name))"
   ]
  },
  {
   "cell_type": "markdown",
   "id": "a6208f3a",
   "metadata": {},
   "source": [
    "Indexing"
   ]
  },
  {
   "cell_type": "code",
   "execution_count": 56,
   "id": "f17ecc5f",
   "metadata": {},
   "outputs": [
    {
     "name": "stdout",
     "output_type": "stream",
     "text": [
      "B\n",
      ":\n",
      "C\n",
      "C\n",
      "C\n",
      "a\n",
      "B\n",
      "B\n"
     ]
    },
    {
     "ename": "IndexError",
     "evalue": "string index out of range",
     "output_type": "error",
     "traceback": [
      "\u001b[31m---------------------------------------------------------------------------\u001b[39m",
      "\u001b[31mIndexError\u001b[39m                                Traceback (most recent call last)",
      "\u001b[36mCell\u001b[39m\u001b[36m \u001b[39m\u001b[32mIn[56]\u001b[39m\u001b[32m, line 10\u001b[39m\n\u001b[32m      8\u001b[39m \u001b[38;5;28mprint\u001b[39m(sentence[-\u001b[32m23\u001b[39m])\n\u001b[32m      9\u001b[39m \u001b[38;5;28mprint\u001b[39m(sentence[-\u001b[38;5;28mlen\u001b[39m(sentence)])\n\u001b[32m---> \u001b[39m\u001b[32m10\u001b[39m \u001b[38;5;28mprint\u001b[39m(\u001b[43msentence\u001b[49m\u001b[43m[\u001b[49m\u001b[43m-\u001b[49m\u001b[32;43m24\u001b[39;49m\u001b[43m]\u001b[49m)\n",
      "\u001b[31mIndexError\u001b[39m: string index out of range"
     ]
    }
   ],
   "source": [
    "sentence = \"Bangkok, Thailand: 100C\"\n",
    "print(sentence[0])\n",
    "print(sentence[17])\n",
    "print(sentence[22])\n",
    "print(sentence[len(sentence)-1])\n",
    "print(sentence[-1])\n",
    "print(sentence[-22])\n",
    "print(sentence[-23])\n",
    "print(sentence[-len(sentence)])\n",
    "print(sentence[-24])"
   ]
  },
  {
   "cell_type": "markdown",
   "id": "426d66ff",
   "metadata": {},
   "source": [
    "## Slicing"
   ]
  },
  {
   "cell_type": "markdown",
   "id": "2bbb6e6a",
   "metadata": {},
   "source": [
    "s[a:b]\n",
    "\n",
    "s[a:b:c]"
   ]
  },
  {
   "cell_type": "markdown",
   "id": "b60b7281",
   "metadata": {},
   "source": [
    "index"
   ]
  },
  {
   "cell_type": "markdown",
   "id": "4058d6d2",
   "metadata": {},
   "source": [
    "indices"
   ]
  },
  {
   "cell_type": "code",
   "execution_count": 68,
   "id": "95c4a638",
   "metadata": {},
   "outputs": [
    {
     "name": "stdout",
     "output_type": "stream",
     "text": [
      "I love\n",
      "Bangkok\n",
      " oeB\n",
      "oga \n",
      "ve Bangkok!\n",
      "ve Bangkok!\n",
      "ve Bangkok!\n",
      "I lov\n",
      "I love Bangkok!\n",
      "Ilv ago!\n",
      "!kokgnaB evol I\n",
      "I love kok!\n"
     ]
    }
   ],
   "source": [
    "s = \"I love Bangkok!\"\n",
    "# \"I love\" -> 0,1,2,3,4,5 -> range(0, 6)\n",
    "print(s[0:6])\n",
    "\n",
    "# \"Bangkok\" -> 7,8,9,10,11,12,13 -> range(7,14)\n",
    "print(s[7:14])\n",
    "\n",
    "print(s[1:8:2]) # 1,3,5,7 -> \" oeB\"\n",
    "print(s[-3:-10:-2]) # -3, -5, -7, -9 -> \"oga \"\n",
    "\n",
    "# From \"v\" to the end of the string\n",
    "print(s[4:15])\n",
    "print(s[4:len(s)])\n",
    "print(s[4:])\n",
    "\n",
    "print(s[:5])\n",
    "\n",
    "print(s[:])\n",
    "print(s[::2]) # \"Ilv ago!\"\n",
    "print(s[::-1])\n",
    "\n",
    "s1 = s[:6] # 0,1,2,3,4,5 -> \"I love\"\n",
    "s2 = s[-4:] # \"kok!\" \n",
    "\n",
    "print(s1 + \" \" + s2)"
   ]
  },
  {
   "cell_type": "markdown",
   "id": "6e30da0d",
   "metadata": {},
   "source": [
    "### Methods"
   ]
  },
  {
   "cell_type": "code",
   "execution_count": null,
   "id": "b1b7a457",
   "metadata": {},
   "outputs": [],
   "source": [
    "# In methods_string.py file"
   ]
  },
  {
   "cell_type": "markdown",
   "id": "fecb04f6",
   "metadata": {},
   "source": [
    "1. Count how many \"never gonna\"/\"Never gonna\" appears \n",
    "2. Remove the section separator, such as [Intro], [Verse1], etc...\n",
    "3. How many lines of lyrics, after doing 2., are there?\n",
    "4. How many number of alphabets are there in the lyrics?"
   ]
  },
  {
   "cell_type": "code",
   "execution_count": 2,
   "id": "cb93350c",
   "metadata": {},
   "outputs": [],
   "source": [
    "lyrics = \"\"\"[Intro]\n",
    "Desert you\n",
    "Ooh-ooh-ooh-ooh\n",
    "Hurt you\n",
    "\n",
    "[Verse 1]\n",
    "We're no strangers to love\n",
    "You know the rules and so do I (Do I)\n",
    "A full commitment's what I'm thinking of\n",
    "You wouldn't get this from any other guy\n",
    "\n",
    "[Pre-Chorus]\n",
    "I just wanna tell you how I'm feeling\n",
    "Gotta make you understand\n",
    "\n",
    "[Chorus]\n",
    "Never gonna give you up\n",
    "Never gonna let you down\n",
    "Never gonna run around and desert you\n",
    "Never gonna make you cry\n",
    "Never gonna say goodbye\n",
    "Never gonna tell a lie and hurt you\n",
    "\n",
    "[Verse 2]\n",
    "We've known each other for so long\n",
    "Your heart's been aching, but you're too shy to say it (To say it)\n",
    "Inside, we both know what's been going on (Going on)\n",
    "We know the game, and we're gonna play it\n",
    "\n",
    "[Pre-Chorus]\n",
    "And if you ask me how I'm feeling\n",
    "Don't tell me you're too blind to see\n",
    "\n",
    "[Chorus]\n",
    "Never gonna give you up\n",
    "Never gonna let you down\n",
    "Never gonna run around and desert you\n",
    "Never gonna make you cry\n",
    "Never gonna say goodbye\n",
    "Never gonna tell a lie and hurt you\n",
    "Never gonna give you up\n",
    "Never gonna let you down\n",
    "Never gonna run around and desert you\n",
    "Never gonna make you cry\n",
    "Never gonna say goodbye\n",
    "Never gonna tell a lie and hurt you\n",
    "\n",
    "[Bridge]\n",
    "Ooh (Give you up)\n",
    "Ooh-ooh (Give you up)\n",
    "Ooh-ooh\n",
    "Never gonna give, never gonna give (Give you up)\n",
    "Ooh-ooh\n",
    "Never gonna give, never gonna give (Give you up)\n",
    "[Verse 3]\n",
    "We've known each other for so long\n",
    "Your heart's been aching, but you're too shy to say it (To say it)\n",
    "Inside, we both know what's been going on (Going on)\n",
    "We know the game, and we're gonna play it\n",
    "\n",
    "[Pre-Chorus]\n",
    "I just wanna tell you how I'm feeling\n",
    "Gotta make you understand\n",
    "\n",
    "[Chorus]\n",
    "Never gonna give you up\n",
    "Never gonna let you down\n",
    "Never gonna run around and desert you\n",
    "Never gonna make you cry\n",
    "Never gonna say goodbye\n",
    "Never gonna tell a lie and hurt you\n",
    "Never gonna give you up\n",
    "Never gonna let you down\n",
    "Never gonna run around and desert you\n",
    "Never gonna make you cry\n",
    "Never gonna say goodbye\n",
    "Never gonna tell a lie and hurt you\n",
    "Never gonna give you up\n",
    "Never gonna let you down\n",
    "Never gonna run around and desert you\n",
    "Never gonna make you cry\n",
    "Never gonna say goodbye\n",
    "Never gonna tell a lie and hurt you\"\"\""
   ]
  },
  {
   "cell_type": "code",
   "execution_count": 7,
   "id": "2380d59a",
   "metadata": {},
   "outputs": [
    {
     "name": "stdout",
     "output_type": "stream",
     "text": [
      "40\n"
     ]
    }
   ],
   "source": [
    "# count \"never gonna\"\n",
    "print(lyrics.lower().count('never gonna'))"
   ]
  },
  {
   "cell_type": "code",
   "execution_count": 13,
   "id": "d551951e",
   "metadata": {},
   "outputs": [
    {
     "name": "stdout",
     "output_type": "stream",
     "text": [
      "\n",
      "Desert you\n",
      "Ooh-ooh-ooh-ooh\n",
      "Hurt you\n",
      "\n",
      "\n",
      "We're no strangers to love\n",
      "You know the rules and so do I (Do I)\n",
      "A full commitment's what I'm thinking of\n",
      "You wouldn't get this from any other guy\n",
      "\n",
      "\n",
      "I just wanna tell you how I'm feeling\n",
      "Gotta make you understand\n",
      "\n",
      "\n",
      "Never gonna give you up\n",
      "Never gonna let you down\n",
      "Never gonna run around and desert you\n",
      "Never gonna make you cry\n",
      "Never gonna say goodbye\n",
      "Never gonna tell a lie and hurt you\n",
      "\n",
      "\n",
      "We've known each other for so long\n",
      "Your heart's been aching, but you're too shy to say it (To say it)\n",
      "Inside, we both know what's been going on (Going on)\n",
      "We know the game, and we're gonna play it\n",
      "\n",
      "\n",
      "And if you ask me how I'm feeling\n",
      "Don't tell me you're too blind to see\n",
      "\n",
      "\n",
      "Never gonna give you up\n",
      "Never gonna let you down\n",
      "Never gonna run around and desert you\n",
      "Never gonna make you cry\n",
      "Never gonna say goodbye\n",
      "Never gonna tell a lie and hurt you\n",
      "Never gonna give you up\n",
      "Never gonna let you down\n",
      "Never gonna run around and desert you\n",
      "Never gonna make you cry\n",
      "Never gonna say goodbye\n",
      "Never gonna tell a lie and hurt you\n",
      "\n",
      "\n",
      "Ooh (Give you up)\n",
      "Ooh-ooh (Give you up)\n",
      "Ooh-ooh\n",
      "Never gonna give, never gonna give (Give you up)\n",
      "Ooh-ooh\n",
      "Never gonna give, never gonna give (Give you up)\n",
      "\n",
      "We've known each other for so long\n",
      "Your heart's been aching, but you're too shy to say it (To say it)\n",
      "Inside, we both know what's been going on (Going on)\n",
      "We know the game, and we're gonna play it\n",
      "\n",
      "\n",
      "I just wanna tell you how I'm feeling\n",
      "Gotta make you understand\n",
      "\n",
      "\n",
      "Never gonna give you up\n",
      "Never gonna let you down\n",
      "Never gonna run around and desert you\n",
      "Never gonna make you cry\n",
      "Never gonna say goodbye\n",
      "Never gonna tell a lie and hurt you\n",
      "Never gonna give you up\n",
      "Never gonna let you down\n",
      "Never gonna run around and desert you\n",
      "Never gonna make you cry\n",
      "Never gonna say goodbye\n",
      "Never gonna tell a lie and hurt you\n",
      "Never gonna give you up\n",
      "Never gonna let you down\n",
      "Never gonna run around and desert you\n",
      "Never gonna make you cry\n",
      "Never gonna say goodbye\n",
      "Never gonna tell a lie and hurt you\n"
     ]
    }
   ],
   "source": [
    "lyrics = lyrics.replace('[Intro]', '') # in-place replacement\n",
    "lyrics = lyrics.replace('[Verse 1]', '') \n",
    "lyrics = lyrics.replace('[Pre-Chorus]', '') \n",
    "lyrics = lyrics.replace('[Chorus]', '') \n",
    "lyrics = lyrics.replace('[Verse 2]', '') \n",
    "lyrics = lyrics.replace('[Pre-Chorus]', '') \n",
    "lyrics = lyrics.replace('[Bridge]', '') \n",
    "lyrics = lyrics.replace('[Verse 3]', '') \n",
    "print(lyrics)"
   ]
  },
  {
   "cell_type": "code",
   "execution_count": 14,
   "id": "529d0a0b",
   "metadata": {},
   "outputs": [
    {
     "name": "stdout",
     "output_type": "stream",
     "text": [
      "82\n"
     ]
    }
   ],
   "source": [
    "print(lyrics.count('\\n'))"
   ]
  },
  {
   "cell_type": "code",
   "execution_count": 15,
   "id": "e849744b",
   "metadata": {},
   "outputs": [
    {
     "data": {
      "text/plain": [
       "\"\\nDesert you\\nOoh-ooh-ooh-ooh\\nHurt you\\n\\n\\nWe're no strangers to love\\nYou know the rules and so do I (Do I)\\nA full commitment's what I'm thinking of\\nYou wouldn't get this from any other guy\\n\\n\\nI just wanna tell you how I'm feeling\\nGotta make you understand\\n\\n\\nNever gonna give you up\\nNever gonna let you down\\nNever gonna run around and desert you\\nNever gonna make you cry\\nNever gonna say goodbye\\nNever gonna tell a lie and hurt you\\n\\n\\nWe've known each other for so long\\nYour heart's been aching, but you're too shy to say it (To say it)\\nInside, we both know what's been going on (Going on)\\nWe know the game, and we're gonna play it\\n\\n\\nAnd if you ask me how I'm feeling\\nDon't tell me you're too blind to see\\n\\n\\nNever gonna give you up\\nNever gonna let you down\\nNever gonna run around and desert you\\nNever gonna make you cry\\nNever gonna say goodbye\\nNever gonna tell a lie and hurt you\\nNever gonna give you up\\nNever gonna let you down\\nNever gonna run around and desert you\\nNever gonna make you cry\\nNever gonna say goodbye\\nNever gonna tell a lie and hurt you\\n\\n\\nOoh (Give you up)\\nOoh-ooh (Give you up)\\nOoh-ooh\\nNever gonna give, never gonna give (Give you up)\\nOoh-ooh\\nNever gonna give, never gonna give (Give you up)\\n\\nWe've known each other for so long\\nYour heart's been aching, but you're too shy to say it (To say it)\\nInside, we both know what's been going on (Going on)\\nWe know the game, and we're gonna play it\\n\\n\\nI just wanna tell you how I'm feeling\\nGotta make you understand\\n\\n\\nNever gonna give you up\\nNever gonna let you down\\nNever gonna run around and desert you\\nNever gonna make you cry\\nNever gonna say goodbye\\nNever gonna tell a lie and hurt you\\nNever gonna give you up\\nNever gonna let you down\\nNever gonna run around and desert you\\nNever gonna make you cry\\nNever gonna say goodbye\\nNever gonna tell a lie and hurt you\\nNever gonna give you up\\nNever gonna let you down\\nNever gonna run around and desert you\\nNever gonna make you cry\\nNever gonna say goodbye\\nNever gonna tell a lie and hurt you\""
      ]
     },
     "execution_count": 15,
     "metadata": {},
     "output_type": "execute_result"
    }
   ],
   "source": [
    "lyrics"
   ]
  },
  {
   "cell_type": "markdown",
   "id": "a61bc777",
   "metadata": {},
   "source": [
    "### in/not in Operators"
   ]
  },
  {
   "cell_type": "code",
   "execution_count": 22,
   "id": "5d991ca4",
   "metadata": {},
   "outputs": [
    {
     "name": "stdout",
     "output_type": "stream",
     "text": [
      "True\n",
      "True\n",
      "True\n",
      "True\n",
      "False\n",
      "True\n"
     ]
    }
   ],
   "source": [
    "sentence = \"I love Bangkok!\"\n",
    "print(\"l\" in sentence)\n",
    "print(\" \" in sentence)\n",
    "print(\"\" in sentence)\n",
    "print(\"ok!\" in sentence)\n",
    "print(\" e\" in sentence)\n",
    "print(\" e\" not in sentence)"
   ]
  },
  {
   "cell_type": "code",
   "execution_count": 24,
   "id": "8b1c4e68",
   "metadata": {},
   "outputs": [
    {
     "name": "stdout",
     "output_type": "stream",
     "text": [
      "A\n"
     ]
    }
   ],
   "source": [
    "sentence = \"I love Bangkok!\"\n",
    "\n",
    "if \"l\" in sentence:\n",
    "    print(\"A\")"
   ]
  },
  {
   "cell_type": "code",
   "execution_count": null,
   "id": "b60210da",
   "metadata": {},
   "outputs": [
    {
     "name": "stdout",
     "output_type": "stream",
     "text": [
      "HELLO\n"
     ]
    }
   ],
   "source": [
    "sentence = \"I love Bangkok!\"\n",
    "\n",
    "if (\" \" not in sentence) or (sentence[4] == \"v\"):\n",
    "    print(\"HELLO\")\n",
    "else:\n",
    "    print(\"WORLD!\")"
   ]
  },
  {
   "cell_type": "markdown",
   "id": "ca9d5324",
   "metadata": {},
   "source": [
    "### Loop through String"
   ]
  },
  {
   "cell_type": "code",
   "execution_count": 26,
   "id": "255bb2d7",
   "metadata": {},
   "outputs": [
    {
     "name": "stdout",
     "output_type": "stream",
     "text": [
      "0\n",
      "1\n",
      "2\n",
      "3\n",
      "4\n"
     ]
    }
   ],
   "source": [
    "for index in range(5):\n",
    "    print(index)"
   ]
  },
  {
   "cell_type": "markdown",
   "id": "77515101",
   "metadata": {},
   "source": [
    "Loop by element"
   ]
  },
  {
   "cell_type": "code",
   "execution_count": 29,
   "id": "b109576f",
   "metadata": {},
   "outputs": [
    {
     "name": "stdout",
     "output_type": "stream",
     "text": [
      "10\n"
     ]
    }
   ],
   "source": [
    "sentence = \"I love Bangkok!\"\n",
    "\n",
    "count = 0\n",
    "for character in sentence:\n",
    "    if character.islower():\n",
    "        count += 1\n",
    "\n",
    "print(count)"
   ]
  },
  {
   "cell_type": "markdown",
   "id": "07d832a3",
   "metadata": {},
   "source": [
    "Loop by index"
   ]
  },
  {
   "cell_type": "code",
   "execution_count": 32,
   "id": "0ddc0a6f",
   "metadata": {},
   "outputs": [
    {
     "name": "stdout",
     "output_type": "stream",
     "text": [
      "0 I\n",
      "1  \n",
      "2 l\n",
      "3 o\n",
      "4 v\n",
      "5 e\n",
      "6  \n",
      "7 B\n",
      "8 a\n",
      "9 n\n",
      "10 g\n",
      "11 k\n",
      "12 o\n",
      "13 k\n",
      "14 !\n"
     ]
    }
   ],
   "source": [
    "sentence = \"I love Bangkok!\"\n",
    "\n",
    "for index in range(len(sentence)):\n",
    "    print(index, sentence[index])"
   ]
  },
  {
   "cell_type": "markdown",
   "id": "f5eec20c",
   "metadata": {},
   "source": [
    "Enumerate"
   ]
  },
  {
   "cell_type": "code",
   "execution_count": 43,
   "id": "ebdea024",
   "metadata": {},
   "outputs": [
    {
     "name": "stdout",
     "output_type": "stream",
     "text": [
      "Hello\n",
      "Hello\n",
      "Hello\n",
      "Hello\n",
      "Hello\n",
      "Hello\n",
      "Hello\n",
      "Hello\n",
      "Hello\n",
      "Hello\n",
      "Hello\n",
      "Hello\n",
      "Hello\n",
      "Hello\n",
      "Hello\n",
      "0 I\n",
      "1  \n",
      "2 l\n",
      "3 o\n",
      "4 v\n",
      "5 e\n",
      "6  \n",
      "7 B\n",
      "8 a\n",
      "9 n\n",
      "10 g\n",
      "11 k\n",
      "12 o\n",
      "13 k\n",
      "14 !\n"
     ]
    }
   ],
   "source": [
    "sentence = \"I love Bangkok!\"\n",
    "\n",
    "for character in sentence:\n",
    "    print(\"Hello\")\n",
    "\n",
    "for index, element in enumerate(sentence):\n",
    "    print(index, element)\n",
    "    "
   ]
  },
  {
   "cell_type": "code",
   "execution_count": 41,
   "id": "04858da7",
   "metadata": {},
   "outputs": [
    {
     "name": "stdout",
     "output_type": "stream",
     "text": [
      "4375289048 4375289048\n"
     ]
    }
   ],
   "source": [
    "a = 2\n",
    "b = 2\n",
    "print(id(a), id(b))"
   ]
  },
  {
   "cell_type": "code",
   "execution_count": null,
   "id": "08995421",
   "metadata": {},
   "outputs": [],
   "source": []
  }
 ],
 "metadata": {
  "kernelspec": {
   "display_name": "python3_ml",
   "language": "python",
   "name": "python3"
  },
  "language_info": {
   "codemirror_mode": {
    "name": "ipython",
    "version": 3
   },
   "file_extension": ".py",
   "mimetype": "text/x-python",
   "name": "python",
   "nbconvert_exporter": "python",
   "pygments_lexer": "ipython3",
   "version": "3.13.5"
  }
 },
 "nbformat": 4,
 "nbformat_minor": 5
}
