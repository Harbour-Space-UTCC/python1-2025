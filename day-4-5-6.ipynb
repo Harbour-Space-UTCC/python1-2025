{
 "cells": [
  {
   "cell_type": "markdown",
   "id": "91b77fde",
   "metadata": {},
   "source": [
    "## Day 4"
   ]
  },
  {
   "cell_type": "markdown",
   "id": "5fa7b02d",
   "metadata": {},
   "source": [
    "30 Celcius -> 86 Farenheit"
   ]
  },
  {
   "cell_type": "code",
   "execution_count": null,
   "id": "51038a6a",
   "metadata": {},
   "outputs": [],
   "source": [
    "celcius = float(input(\"Enter Temp. (C): \"))\n",
    "farenheit = celcius * (9 / 5) + 32\n",
    "print(farenheit)"
   ]
  },
  {
   "cell_type": "code",
   "execution_count": null,
   "id": "3f6bdbaa",
   "metadata": {},
   "outputs": [],
   "source": [
    "SOME_CONSTANT= \"Vetit\"\n",
    "not_a_constant = \"Rujipas\""
   ]
  },
  {
   "cell_type": "markdown",
   "id": "bc1c668c",
   "metadata": {},
   "source": [
    "### Math Functions"
   ]
  },
  {
   "cell_type": "code",
   "execution_count": 3,
   "id": "87e2b655",
   "metadata": {},
   "outputs": [
    {
     "name": "stdout",
     "output_type": "stream",
     "text": [
      "13\n",
      "12\n"
     ]
    }
   ],
   "source": [
    "print(abs(-13))\n",
    "print(abs(12))"
   ]
  },
  {
   "cell_type": "code",
   "execution_count": 4,
   "id": "010ed067",
   "metadata": {},
   "outputs": [
    {
     "ename": "SyntaxError",
     "evalue": "invalid syntax (1529106578.py, line 1)",
     "output_type": "error",
     "traceback": [
      "  \u001b[36mCell\u001b[39m\u001b[36m \u001b[39m\u001b[32mIn[4]\u001b[39m\u001b[32m, line 1\u001b[39m\n\u001b[31m    \u001b[39m\u001b[31m|-12|\u001b[39m\n    ^\n\u001b[31mSyntaxError\u001b[39m\u001b[31m:\u001b[39m invalid syntax\n"
     ]
    }
   ],
   "source": [
    "|-12|"
   ]
  },
  {
   "cell_type": "code",
   "execution_count": 5,
   "id": "114d99d3",
   "metadata": {},
   "outputs": [
    {
     "data": {
      "text/plain": [
       "-2"
      ]
     },
     "execution_count": 5,
     "metadata": {},
     "output_type": "execute_result"
    }
   ],
   "source": [
    "min(23, 5, -2, 0)"
   ]
  },
  {
   "cell_type": "code",
   "execution_count": 6,
   "id": "e7ccbf58",
   "metadata": {},
   "outputs": [
    {
     "data": {
      "text/plain": [
       "23"
      ]
     },
     "execution_count": 6,
     "metadata": {},
     "output_type": "execute_result"
    }
   ],
   "source": [
    "max(23, 5, -2, 0)"
   ]
  },
  {
   "cell_type": "code",
   "execution_count": 14,
   "id": "2ea5f9a0",
   "metadata": {},
   "outputs": [
    {
     "data": {
      "text/plain": [
       "2"
      ]
     },
     "execution_count": 14,
     "metadata": {},
     "output_type": "execute_result"
    }
   ],
   "source": [
    "round(2.45)\n",
    "round(2.6), int(2.6)\n",
    "round(2.5)"
   ]
  },
  {
   "cell_type": "code",
   "execution_count": 13,
   "id": "e08f93ad",
   "metadata": {},
   "outputs": [
    {
     "data": {
      "text/plain": [
       "3"
      ]
     },
     "execution_count": 13,
     "metadata": {},
     "output_type": "execute_result"
    }
   ],
   "source": [
    "round(2.500000000001)"
   ]
  },
  {
   "cell_type": "code",
   "execution_count": null,
   "id": "1165abcc",
   "metadata": {},
   "outputs": [],
   "source": [
    "# 2.5 -> 2, 5.5 -> 6, 3.5 -> 3, 4.5 -> 5"
   ]
  },
  {
   "cell_type": "code",
   "execution_count": 21,
   "id": "99c16e8a",
   "metadata": {},
   "outputs": [
    {
     "data": {
      "text/plain": [
       "2.46"
      ]
     },
     "execution_count": 21,
     "metadata": {},
     "output_type": "execute_result"
    }
   ],
   "source": [
    "round(2.455, 2)"
   ]
  },
  {
   "cell_type": "code",
   "execution_count": 22,
   "id": "6469e9a9",
   "metadata": {},
   "outputs": [
    {
     "data": {
      "text/plain": [
       "-1.256"
      ]
     },
     "execution_count": 22,
     "metadata": {},
     "output_type": "execute_result"
    }
   ],
   "source": [
    "round(-1.2563, 3)"
   ]
  },
  {
   "cell_type": "code",
   "execution_count": 36,
   "id": "d789d18b",
   "metadata": {},
   "outputs": [
    {
     "data": {
      "text/plain": [
       "986.12"
      ]
     },
     "execution_count": 36,
     "metadata": {},
     "output_type": "execute_result"
    }
   ],
   "source": [
    "round(986.12345, 2)"
   ]
  },
  {
   "cell_type": "markdown",
   "id": "4ff13282",
   "metadata": {},
   "source": [
    "## Conditionals"
   ]
  },
  {
   "cell_type": "code",
   "execution_count": null,
   "id": "256cd59d",
   "metadata": {},
   "outputs": [],
   "source": [
    "\"\"\"\n",
    "if PROPOSITION(S):\n",
    "    DO_SOMETHING\n",
    "\"\"\"\n",
    "\n",
    "if 3 > 4:\n",
    "    print(\"HELLO\")\n",
    "    \n"
   ]
  },
  {
   "cell_type": "code",
   "execution_count": 49,
   "id": "c4e10e50",
   "metadata": {},
   "outputs": [],
   "source": [
    "x = 5\n",
    "if (x > 6) and (x < \"hello\"):\n",
    "    print(\"Cheetah loves Python1!\")"
   ]
  },
  {
   "cell_type": "code",
   "execution_count": 43,
   "id": "f37847a3",
   "metadata": {},
   "outputs": [
    {
     "name": "stdout",
     "output_type": "stream",
     "text": [
      "A\n",
      "C\n",
      "D\n"
     ]
    }
   ],
   "source": [
    "if 5 > 4:\n",
    "    print('A')\n",
    "print('C')\n",
    "if 6 < 3:\n",
    "    print('B')\n",
    "print('D')"
   ]
  },
  {
   "cell_type": "code",
   "execution_count": 50,
   "id": "5b774ad1",
   "metadata": {},
   "outputs": [
    {
     "name": "stdout",
     "output_type": "stream",
     "text": [
      "YESSSS\n",
      "WOW\n"
     ]
    }
   ],
   "source": [
    "if 5 != 4 and 6 > 3:\n",
    "    if 5 < 4:\n",
    "        print(\"NOOOOOOOOO\")\n",
    "    print(\"YESSSS\")\n",
    "print(\"WOW\")"
   ]
  },
  {
   "cell_type": "code",
   "execution_count": null,
   "id": "72d8c19b",
   "metadata": {},
   "outputs": [
    {
     "name": "stdout",
     "output_type": "stream",
     "text": [
      "OH HELL NO...\n",
      "HUH\n"
     ]
    }
   ],
   "source": [
    "if 2 != 3:\n",
    "    if 3 != 4:\n",
    "        if 4 != 5:\n",
    "            if 5 != 6:\n",
    "                if 6 != 7:\n",
    "                    print(\"OH HELL NO...\")\n",
    "            if 11 != 13:\n",
    "                print(\"HUH\")"
   ]
  },
  {
   "cell_type": "code",
   "execution_count": 53,
   "id": "6dab0685",
   "metadata": {},
   "outputs": [
    {
     "name": "stdout",
     "output_type": "stream",
     "text": [
      "OH HELL NO...\n",
      "HUH\n"
     ]
    }
   ],
   "source": [
    "if (2 != 3) and (3 != 4) and (4 != 5):\n",
    "    if (5 != 6) and (6 != 7):\n",
    "        print(\"OH HELL NO...\")\n",
    "    if 11 != 13:\n",
    "        print(\"HUH\")"
   ]
  },
  {
   "cell_type": "code",
   "execution_count": null,
   "id": "731463c4",
   "metadata": {},
   "outputs": [],
   "source": [
    "# if (2 != 3) and (3 != 4) and (4 != 5) and (5 != 6) \\\n",
    "#     and (6 != 7):\n",
    "#         print(\"OH HELL NO...\")\n",
    "\n",
    "# if (2 != 3) and (3 != 4) and (4 != 5) and (11 != 13):\n",
    "#         print(\"HUH\")"
   ]
  },
  {
   "cell_type": "markdown",
   "id": "b75d1681",
   "metadata": {},
   "source": [
    "### Else"
   ]
  },
  {
   "cell_type": "code",
   "execution_count": 54,
   "id": "e4d4b341",
   "metadata": {},
   "outputs": [
    {
     "name": "stdout",
     "output_type": "stream",
     "text": [
      "B\n"
     ]
    }
   ],
   "source": [
    "if 4 > 5:\n",
    "    print(\"A\")\n",
    "else:\n",
    "    print(\"B\")"
   ]
  },
  {
   "cell_type": "code",
   "execution_count": 56,
   "id": "c0f69104",
   "metadata": {},
   "outputs": [
    {
     "name": "stdout",
     "output_type": "stream",
     "text": [
      "A\n",
      "B\n"
     ]
    }
   ],
   "source": [
    "if 4 < 5:\n",
    "    print(\"A\")\n",
    "if 5 < 4:\n",
    "    print(\"C\")\n",
    "else:\n",
    "    print(\"B\")"
   ]
  },
  {
   "cell_type": "code",
   "execution_count": 57,
   "id": "3031b566",
   "metadata": {},
   "outputs": [
    {
     "name": "stdout",
     "output_type": "stream",
     "text": [
      "LANA\n",
      "NO\n"
     ]
    }
   ],
   "source": [
    "if 4 > 5:\n",
    "    print(\"TRUE!\")\n",
    "if 4 <= 6:\n",
    "    print(\"LANA\")\n",
    "else:\n",
    "    print(\"FALSE!!\")\n",
    "if 6 == 5:\n",
    "    print(\"YES\")\n",
    "else:\n",
    "    print(\"NO\")"
   ]
  },
  {
   "cell_type": "markdown",
   "id": "fdbf39d5",
   "metadata": {},
   "source": [
    "### Elif"
   ]
  },
  {
   "cell_type": "code",
   "execution_count": 59,
   "id": "b2370e40",
   "metadata": {},
   "outputs": [
    {
     "name": "stdout",
     "output_type": "stream",
     "text": [
      "O\n",
      "LoL\n"
     ]
    }
   ],
   "source": [
    "if 2 < 3:\n",
    "    print(\"O\")\n",
    "elif 3 > 4:\n",
    "    print(\"B\")\n",
    "elif -1 > 1:\n",
    "    print(\"C\")\n",
    "else:\n",
    "    print(\"T\")\n",
    "\n",
    "if 4 > 1:\n",
    "    print('LoL')"
   ]
  },
  {
   "cell_type": "markdown",
   "id": "a488809d",
   "metadata": {},
   "source": [
    "You are at the restaurant deciding what meal should you have today based on the money that you have."
   ]
  },
  {
   "cell_type": "code",
   "execution_count": null,
   "id": "cb38eaaf",
   "metadata": {},
   "outputs": [
    {
     "name": "stdout",
     "output_type": "stream",
     "text": [
      "Harbour Paradise Buffet\n",
      "Wine\n"
     ]
    }
   ],
   "source": [
    "money = float(input())\n",
    "age = int(input())\n",
    "\n",
    "if money > 3000:\n",
    "    print('Michellin star restaurant!')\n",
    "    if age >= 20:\n",
    "        print('CP!')\n",
    "elif money > 700:\n",
    "    print('Harbour Paradise Buffet')\n",
    "    if age >= 20:\n",
    "        print('Wine')\n",
    "elif money > 300:\n",
    "    print('TeeYai Buffet')\n",
    "    if age >= 20:\n",
    "        print('Beer!')\n",
    "else:\n",
    "    print('Go back home and eat instant noodle!')\n",
    "    print('Drink Water please.')"
   ]
  },
  {
   "cell_type": "markdown",
   "id": "76d8e7c0",
   "metadata": {},
   "source": [
    "# Day 5"
   ]
  },
  {
   "cell_type": "markdown",
   "id": "64a016c3",
   "metadata": {},
   "source": [
    "### In-class Task:\n",
    "\n",
    "Write a program to check the input $x$:\n",
    "\n",
    "If $x$ is an even number, print \"A\"\n",
    "\n",
    "But if $x$ is an even number that is not divisible by 3, print \"B\" instead, and print \"C\" instead if yes.\n",
    "\n",
    "Instead, if $x$ is not an even number, print \"D\""
   ]
  },
  {
   "cell_type": "markdown",
   "id": "20e26bb5",
   "metadata": {},
   "source": [
    "Test cases:\n",
    "\n",
    "$x=3$ -> D\n",
    "\n",
    "$x=4$ -> B\n",
    "\n",
    "$x=12$ -> C\n",
    "\n",
    "$x=182$ -> B\n",
    "\n",
    "$x=0$ -> C\n",
    "\n",
    "$x=-7$ -> D\n",
    "\n",
    "$x=1.5$ -> D\n",
    "\n",
    "$x=2.2$ -> D\n"
   ]
  },
  {
   "cell_type": "code",
   "execution_count": null,
   "id": "be629343",
   "metadata": {},
   "outputs": [
    {
     "name": "stdout",
     "output_type": "stream",
     "text": [
      "D\n"
     ]
    }
   ],
   "source": [
    "x = float(input())\n",
    "\n",
    "if x % 2 == 0:\n",
    "    if x % 3 != 0:\n",
    "        print(\"B\")\n",
    "    else:\n",
    "        print(\"C\")\n",
    "else:\n",
    "    print(\"D\")"
   ]
  },
  {
   "cell_type": "markdown",
   "id": "43bf80dd",
   "metadata": {},
   "source": [
    "## Final Project "
   ]
  },
  {
   "cell_type": "markdown",
   "id": "f20b69a8",
   "metadata": {},
   "source": [
    "Utility App\n",
    "\n",
    "\n",
    "> income-spending, calculator, journal, reminders, shopping list, \n",
    "> invesment calculator, Recommendations, Scientific App (Physics, Chem.)\n",
    "> poker game"
   ]
  },
  {
   "cell_type": "markdown",
   "id": "77037d4e",
   "metadata": {},
   "source": [
    "NO try-catch, NO OOP"
   ]
  },
  {
   "cell_type": "markdown",
   "id": "800af758",
   "metadata": {},
   "source": [
    "Present on Friday 38th October 2025"
   ]
  },
  {
   "cell_type": "markdown",
   "id": "a7eff913",
   "metadata": {},
   "source": [
    "Scoring 30%\n",
    "\n",
    "15% Functions & Features\n",
    "\n",
    "10% Code Readibility & PEP8 Format & Variable Names \n",
    "\n",
    "5% Presentation\n",
    "\n",
    "Bug -2%\n",
    "PEP8 format -0.2%\n",
    "Code Defense -0 ~ -30%"
   ]
  },
  {
   "cell_type": "markdown",
   "id": "eec8bce8",
   "metadata": {},
   "source": [
    "Codeforces 30%\n",
    "\n",
    "Defence -0 ~ -30%"
   ]
  },
  {
   "cell_type": "markdown",
   "id": "b824f178",
   "metadata": {},
   "source": [
    "### Loops"
   ]
  },
  {
   "cell_type": "markdown",
   "id": "7b431f5b",
   "metadata": {},
   "source": [
    "While loop\n",
    "\n",
    "```python\n",
    "while CONDITION:\n",
    "    ACTION\n",
    "```\n",
    "\n",
    "\n",
    "For loop\n",
    "```python\n",
    "for INDEX in ITERABLE:\n",
    "    ACTION\n",
    "```"
   ]
  },
  {
   "cell_type": "code",
   "execution_count": 4,
   "id": "f54ff637",
   "metadata": {},
   "outputs": [
    {
     "name": "stdout",
     "output_type": "stream",
     "text": [
      "Hello, World!\n",
      "Hello, World!\n",
      "Hello, World!\n",
      "Hello, World!\n",
      "Hello, World!\n"
     ]
    }
   ],
   "source": [
    "# print('Hello, World!')\n",
    "# print('Hello, World!')\n",
    "# print('Hello, World!')\n",
    "# print('Hello, World!')\n",
    "# print('Hello, World!')\n",
    "\n",
    "for i in range(5):\n",
    "    print('Hello, World!')"
   ]
  },
  {
   "cell_type": "code",
   "execution_count": null,
   "id": "ffa4e540",
   "metadata": {},
   "outputs": [],
   "source": [
    "while 2 < 3:\n",
    "    print(\"A\")\n",
    "    print(\"B\")"
   ]
  },
  {
   "cell_type": "code",
   "execution_count": null,
   "id": "234779f6",
   "metadata": {},
   "outputs": [],
   "source": [
    "# print 1 to 100\n",
    "\n",
    "number = 1\n",
    "while number < 101:\n",
    "    print(number)\n",
    "    number += 1"
   ]
  },
  {
   "cell_type": "markdown",
   "id": "d7e7db55",
   "metadata": {},
   "source": [
    "#"
   ]
  },
  {
   "cell_type": "code",
   "execution_count": 18,
   "id": "d7d04493",
   "metadata": {},
   "outputs": [
    {
     "name": "stdout",
     "output_type": "stream",
     "text": [
      "2\n",
      "4\n",
      "6\n",
      "8\n",
      "10\n",
      "12\n",
      "14\n",
      "16\n",
      "18\n",
      "20\n"
     ]
    }
   ],
   "source": [
    "# Even Number from 1 to 20\n",
    "\n",
    "number = 2\n",
    "while number <= 20:\n",
    "    print(number)\n",
    "    number += 2"
   ]
  },
  {
   "cell_type": "code",
   "execution_count": 22,
   "id": "a59cc0b4",
   "metadata": {},
   "outputs": [
    {
     "name": "stdout",
     "output_type": "stream",
     "text": [
      "2\n",
      "4\n",
      "6\n",
      "8\n",
      "10\n",
      "12\n",
      "14\n",
      "16\n",
      "18\n",
      "20\n"
     ]
    }
   ],
   "source": [
    "number = 1\n",
    "while number <= 20:\n",
    "    if number % 2 == 0:\n",
    "        print(number)\n",
    "    number += 1"
   ]
  },
  {
   "cell_type": "markdown",
   "id": "1960fe3d",
   "metadata": {},
   "source": [
    "# Day 6"
   ]
  },
  {
   "cell_type": "code",
   "execution_count": null,
   "id": "534431c7",
   "metadata": {},
   "outputs": [],
   "source": []
  }
 ],
 "metadata": {
  "kernelspec": {
   "display_name": "python3_ml",
   "language": "python",
   "name": "python3"
  },
  "language_info": {
   "codemirror_mode": {
    "name": "ipython",
    "version": 3
   },
   "file_extension": ".py",
   "mimetype": "text/x-python",
   "name": "python",
   "nbconvert_exporter": "python",
   "pygments_lexer": "ipython3",
   "version": "3.13.5"
  }
 },
 "nbformat": 4,
 "nbformat_minor": 5
}
