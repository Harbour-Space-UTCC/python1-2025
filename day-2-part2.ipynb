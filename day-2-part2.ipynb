{
 "cells": [
  {
   "cell_type": "markdown",
   "id": "7c757937",
   "metadata": {},
   "source": [
    "# HELLO! KAM!\n",
    "$a^2+b^2=c^2$"
   ]
  },
  {
   "cell_type": "markdown",
   "id": "21b4928a",
   "metadata": {},
   "source": [
    "$\\int_{0}^{\\infty}x dx$"
   ]
  },
  {
   "cell_type": "code",
   "execution_count": 1,
   "id": "92c8130d",
   "metadata": {},
   "outputs": [
    {
     "name": "stdout",
     "output_type": "stream",
     "text": [
      "Hello, World!\n"
     ]
    }
   ],
   "source": [
    "print(\"Hello, World!\")"
   ]
  },
  {
   "cell_type": "code",
   "execution_count": null,
   "id": "c97ba1b4",
   "metadata": {},
   "outputs": [],
   "source": [
    "# Primitive data types\n",
    "# int\n",
    "1, 2, 0, -1, -5, -0\n",
    "\n",
    "# float\n",
    "1.5, -2.4, 3.14, 0.0\n",
    "\n",
    "# string\n",
    "\"Hello\"\n",
    "'Hello'\n",
    "\n",
    "\"\"\"\n",
    "Hello\n",
    "My name is Ve!\n",
    "\"\"\"\n",
    "\n",
    "str(4)\n",
    "\n",
    "# boolean\n",
    "True, False\n",
    "bool()\n",
    "\n",
    "# Nonetype\n",
    "None"
   ]
  },
  {
   "cell_type": "code",
   "execution_count": null,
   "id": "16721b21",
   "metadata": {},
   "outputs": [
    {
     "name": "stdout",
     "output_type": "stream",
     "text": [
      "True\n"
     ]
    }
   ],
   "source": [
    "print(bool(\"2\"))"
   ]
  },
  {
   "cell_type": "code",
   "execution_count": null,
   "id": "d306d686",
   "metadata": {},
   "outputs": [
    {
     "name": "stdout",
     "output_type": "stream",
     "text": [
      "False\n"
     ]
    }
   ],
   "source": [
    "print(isinstance(0, bool))"
   ]
  },
  {
   "cell_type": "markdown",
   "id": "eede8a1d",
   "metadata": {},
   "source": [
    "## Variables"
   ]
  },
  {
   "cell_type": "code",
   "execution_count": null,
   "id": "5fb4b9c3",
   "metadata": {},
   "outputs": [
    {
     "name": "stdout",
     "output_type": "stream",
     "text": [
      "Vetit\n"
     ]
    }
   ],
   "source": [
    "x = 1\n",
    "# x=1\n",
    "# x=    1\n",
    "s = \"Hello\"\n",
    "\n",
    "age = 22\n",
    "name = \"Vetit\"\n",
    "\n",
    "print(name)"
   ]
  },
  {
   "cell_type": "code",
   "execution_count": null,
   "id": "ee0df339",
   "metadata": {},
   "outputs": [],
   "source": [
    "# snake_case\n",
    "founded_year_utcc_admission_department = 1980\n",
    "\n",
    "# camelCase\n",
    "foundedYearUtccAdmissionDepartment = 1980\n",
    "\n",
    "# PascalCase\n",
    "FoundedYearUtccAdmissionDepartment = 1980"
   ]
  },
  {
   "cell_type": "code",
   "execution_count": null,
   "id": "fb80eee0",
   "metadata": {},
   "outputs": [],
   "source": [
    "name = \"\"\n",
    "Name = \"\" # OK but not good\n",
    "x = 2 # OK but not good\n",
    "\n",
    "# 1bangkok = \"\" # BAD!\n",
    "_1bangkok = \"\" # OK but not usually use\n",
    "\n",
    "# reserved variables (should not use!)\n",
    "# False = 0\n",
    "# int = 0\n",
    "# and = 0\n",
    "# or = 0\n",
    "# if = 0\n",
    "# break = 0\n",
    "# class = 0 \n",
    "# del = 0 \n",
    "# else = 0 \n",
    "# and more..."
   ]
  },
  {
   "cell_type": "markdown",
   "id": "86e5ec50",
   "metadata": {},
   "source": [
    "## PEP8 Styling\n",
    "`x = 4` Not `x=4`\n",
    "\n",
    "`snake_case` naming variable\n",
    "\n",
    "Each line should contain only 60-79 characters, 66 is ideal"
   ]
  },
  {
   "cell_type": "code",
   "execution_count": null,
   "id": "9f54cb64",
   "metadata": {},
   "outputs": [
    {
     "name": "stdout",
     "output_type": "stream",
     "text": [
      "I love Cheetah, Kam, and a lot of Khawfang, and KhawfangKhawfangKhawfangKhawfangKhawfangKhawfangKhawfangKhawfangKhawfangKhawfangKhawfangKhawfangKhawfangKhawfangKhawfangKhawfangKhawfangKhawfangKhawfangKhawfangKhawfangKhawfangKhawfangKhawfangKhawfangKhawfangKhawfang\n"
     ]
    }
   ],
   "source": [
    "print(\"\"\"I love Cheetah, Kam, and a lot of Khawfang, and KhawfangKhaw\\\n",
    "fangKhawfangKhawfangKhawfangKhawfangKhawfangKhawfangKhawfangKhawfang\\\n",
    "KhawfangKhawfangKhawfangKhawfangKhawfangKhawfangKhawfangKhawfang\\\n",
    "KhawfangKhawfangKhawfangKhawfangKhawfangKhawfangKhawfangKhawfangKhawfang\"\"\")"
   ]
  },
  {
   "cell_type": "markdown",
   "id": "02d119c8",
   "metadata": {},
   "source": [
    "## Input"
   ]
  },
  {
   "cell_type": "code",
   "execution_count": 68,
   "id": "ffca527b",
   "metadata": {},
   "outputs": [
    {
     "name": "stdout",
     "output_type": "stream",
     "text": [
      "2\n"
     ]
    }
   ],
   "source": [
    "age = int(bool(input()))\n",
    "print(age+1)"
   ]
  },
  {
   "cell_type": "code",
   "execution_count": null,
   "id": "ff6fdc2c",
   "metadata": {},
   "outputs": [
    {
     "ename": "SyntaxError",
     "evalue": "invalid syntax (1780462276.py, line 3)",
     "output_type": "error",
     "traceback": [
      "  \u001b[36mCell\u001b[39m\u001b[36m \u001b[39m\u001b[32mIn[63]\u001b[39m\u001b[32m, line 3\u001b[39m\n\u001b[31m    \u001b[39m\u001b[31mprint(,hello, name)\u001b[39m\n          ^\n\u001b[31mSyntaxError\u001b[39m\u001b[31m:\u001b[39m invalid syntax\n"
     ]
    }
   ],
   "source": [
    "name = input()\n",
    "hello = \"Hi\"\n",
    "print(hello, name)"
   ]
  },
  {
   "cell_type": "code",
   "execution_count": 71,
   "id": "96646e10",
   "metadata": {},
   "outputs": [
    {
     "name": "stdout",
     "output_type": "stream",
     "text": [
      "mdsk\n"
     ]
    }
   ],
   "source": [
    "s = input(\"ldgk.efjgjodfsgjdfjl\")\n",
    "print(s)"
   ]
  },
  {
   "cell_type": "code",
   "execution_count": 73,
   "id": "3c57e754",
   "metadata": {},
   "outputs": [
    {
     "name": "stdout",
     "output_type": "stream",
     "text": [
      "print()\n"
     ]
    }
   ],
   "source": [
    "print(\"print()\")"
   ]
  },
  {
   "cell_type": "markdown",
   "id": "7a54665a",
   "metadata": {},
   "source": []
  },
  {
   "cell_type": "code",
   "execution_count": null,
   "id": "212dcc2c",
   "metadata": {},
   "outputs": [],
   "source": []
  }
 ],
 "metadata": {
  "kernelspec": {
   "display_name": "python3_ml",
   "language": "python",
   "name": "python3"
  },
  "language_info": {
   "codemirror_mode": {
    "name": "ipython",
    "version": 3
   },
   "file_extension": ".py",
   "mimetype": "text/x-python",
   "name": "python",
   "nbconvert_exporter": "python",
   "pygments_lexer": "ipython3",
   "version": "3.13.5"
  }
 },
 "nbformat": 4,
 "nbformat_minor": 5
}
