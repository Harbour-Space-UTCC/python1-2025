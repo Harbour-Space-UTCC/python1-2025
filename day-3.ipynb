{
 "cells": [
  {
   "cell_type": "markdown",
   "id": "90f7e1cb",
   "metadata": {},
   "source": [
    "# Day 3"
   ]
  },
  {
   "cell_type": "code",
   "execution_count": 103,
   "id": "d96ee9ce",
   "metadata": {},
   "outputs": [
    {
     "name": "stdout",
     "output_type": "stream",
     "text": [
      "0\n"
     ]
    }
   ],
   "source": [
    "# int()\n",
    "a = int(4.0)\n",
    "a = int(\"4\")\n",
    "a = int(float(\"4.0\"))\n",
    "a = int(True)\n",
    "a = int(False)\n",
    "print(a)"
   ]
  },
  {
   "cell_type": "code",
   "execution_count": 104,
   "id": "beb38b78",
   "metadata": {},
   "outputs": [
    {
     "name": "stdout",
     "output_type": "stream",
     "text": [
      "2.0\n"
     ]
    }
   ],
   "source": [
    "# float()\n",
    "a = float(-2.5)\n",
    "a = float(\"-2.5\")\n",
    "a = float(True)\n",
    "a = float(False)\n",
    "# a = float(\"False\")\n",
    "a = float(\"2\")\n",
    "print(a)"
   ]
  },
  {
   "cell_type": "code",
   "execution_count": 105,
   "id": "985ca0a7",
   "metadata": {},
   "outputs": [
    {
     "name": "stdout",
     "output_type": "stream",
     "text": [
      "False\n"
     ]
    }
   ],
   "source": [
    "# bool()\n",
    "a = bool(3)\n",
    "a = bool(-1)\n",
    "a = bool(0)\n",
    "a = bool(0.0)\n",
    "a = bool(-0.00000000)\n",
    "a = bool(0.00000000000000000000000000000000000000000000000000000000000000000000000000000000000000000000000000000000001)\n",
    "a = bool(None)\n",
    "a = bool(\"\")\n",
    "print(a)"
   ]
  },
  {
   "cell_type": "code",
   "execution_count": 106,
   "id": "7f7d602b",
   "metadata": {},
   "outputs": [
    {
     "name": "stdout",
     "output_type": "stream",
     "text": [
      "-2.5\n",
      "<class 'str'>\n"
     ]
    },
    {
     "data": {
      "text/plain": [
       "(None, None)"
      ]
     },
     "execution_count": 106,
     "metadata": {},
     "output_type": "execute_result"
    }
   ],
   "source": [
    "# str()\n",
    "a = str(1)\n",
    "a = str(True)\n",
    "a = str(False)\n",
    "a = str(None)\n",
    "a = str(-2.5)\n",
    "\n",
    "print(a), print(type(a))"
   ]
  },
  {
   "cell_type": "code",
   "execution_count": 107,
   "id": "9f488fb6",
   "metadata": {},
   "outputs": [
    {
     "name": "stdout",
     "output_type": "stream",
     "text": [
      "True <class 'bool'>\n"
     ]
    }
   ],
   "source": [
    "a = bool(str(float(-2))) # \"-2.0\"\n",
    "print(a, type(a))"
   ]
  },
  {
   "cell_type": "code",
   "execution_count": 108,
   "id": "2c646550",
   "metadata": {},
   "outputs": [],
   "source": [
    "# dynamic-typed programming language\n",
    "a = 5\n",
    "a = True"
   ]
  },
  {
   "cell_type": "markdown",
   "id": "6c1713a7",
   "metadata": {},
   "source": [
    "## Mathematical Operations"
   ]
  },
  {
   "cell_type": "markdown",
   "id": "3608cfbd",
   "metadata": {},
   "source": [
    "$+,-,\\times, /, modulo, power$"
   ]
  },
  {
   "cell_type": "code",
   "execution_count": 109,
   "id": "12cb6efb",
   "metadata": {},
   "outputs": [
    {
     "ename": "ZeroDivisionError",
     "evalue": "float modulo by zero",
     "output_type": "error",
     "traceback": [
      "\u001b[31m---------------------------------------------------------------------------\u001b[39m",
      "\u001b[31mZeroDivisionError\u001b[39m                         Traceback (most recent call last)",
      "\u001b[36mCell\u001b[39m\u001b[36m \u001b[39m\u001b[32mIn[109]\u001b[39m\u001b[32m, line 23\u001b[39m\n\u001b[32m     21\u001b[39m j = -\u001b[32m12.5\u001b[39m % \u001b[38;5;28;01mTrue\u001b[39;00m\n\u001b[32m     22\u001b[39m \u001b[38;5;66;03m# j = -12.5 % 0\u001b[39;00m\n\u001b[32m---> \u001b[39m\u001b[32m23\u001b[39m j = \u001b[43m-\u001b[49m\u001b[32;43m12.5\u001b[39;49m\u001b[43m \u001b[49m\u001b[43m%\u001b[49m\u001b[43m \u001b[49m\u001b[38;5;28;43;01mFalse\u001b[39;49;00m\n\u001b[32m     24\u001b[39m \u001b[38;5;28mprint\u001b[39m(j)\n",
      "\u001b[31mZeroDivisionError\u001b[39m: float modulo by zero"
     ]
    }
   ],
   "source": [
    "a = 2 + 6 + 10 + 4 + 7\n",
    "a = sum((2, 6, 10, 4, 7))\n",
    "\n",
    "b = 7 + 3\n",
    "c = 7 - 3\n",
    "d = 6 * 4 # asterisk\n",
    "e = int(8 / 4)\n",
    "f = 8 // 4\n",
    "g = 2 ** 5\n",
    "h = 2 ** 0.5\n",
    "i = 8 ** (1/7)\n",
    "\n",
    "j = 7 % 3\n",
    "j = 32 % 4.0\n",
    "j = 32.0 % 5.0\n",
    "j = 32.0 % 5.1 # edge cases\n",
    "j = 32.0 % -5.1\n",
    "j = -12.5 % -1.15\n",
    "j = -12.5 % 0.5\n",
    "j = -12.5 % 1\n",
    "j = -12.5 % True\n",
    "# j = -12.5 % 0\n",
    "j = -12.5 % False\n",
    "print(j)"
   ]
  },
  {
   "cell_type": "markdown",
   "id": "dd846322",
   "metadata": {},
   "source": [
    "$\\sqrt[7]{8}$"
   ]
  },
  {
   "cell_type": "code",
   "execution_count": null,
   "id": "6a40b21e",
   "metadata": {},
   "outputs": [
    {
     "name": "stdout",
     "output_type": "stream",
     "text": [
      "2\n"
     ]
    }
   ],
   "source": [
    "print(8//3)"
   ]
  },
  {
   "cell_type": "code",
   "execution_count": null,
   "id": "ef7a905b",
   "metadata": {},
   "outputs": [
    {
     "name": "stdout",
     "output_type": "stream",
     "text": [
      "2\n"
     ]
    }
   ],
   "source": [
    "print(int(8/3))"
   ]
  },
  {
   "cell_type": "code",
   "execution_count": null,
   "id": "68c5f346",
   "metadata": {},
   "outputs": [
    {
     "data": {
      "text/plain": [
       "0.30000000000000004"
      ]
     },
     "execution_count": 88,
     "metadata": {},
     "output_type": "execute_result"
    }
   ],
   "source": [
    "7/3\n",
    "0.1 + 0.2"
   ]
  },
  {
   "cell_type": "code",
   "execution_count": null,
   "id": "46969552",
   "metadata": {},
   "outputs": [
    {
     "name": "stdout",
     "output_type": "stream",
     "text": [
      "1\n"
     ]
    }
   ],
   "source": [
    "a = 0 ** 0\n",
    "print(a)"
   ]
  },
  {
   "cell_type": "code",
   "execution_count": null,
   "id": "8cd10220",
   "metadata": {},
   "outputs": [
    {
     "data": {
      "text/plain": [
       "1"
      ]
     },
     "execution_count": 85,
     "metadata": {},
     "output_type": "execute_result"
    }
   ],
   "source": [
    "0 ** 5\n",
    "5 ** 0"
   ]
  },
  {
   "cell_type": "markdown",
   "id": "77717d50",
   "metadata": {},
   "source": [
    "## Order of operations\n"
   ]
  },
  {
   "cell_type": "markdown",
   "id": "d8028181",
   "metadata": {},
   "source": [
    "$() \\rightarrow x^y, \\log \\rightarrow \\times, \\div, \\% \\rightarrow +,-$"
   ]
  },
  {
   "cell_type": "code",
   "execution_count": null,
   "id": "ddec9f5d",
   "metadata": {},
   "outputs": [
    {
     "data": {
      "text/plain": [
       "-1.0"
      ]
     },
     "execution_count": 92,
     "metadata": {},
     "output_type": "execute_result"
    }
   ],
   "source": [
    "a = 2 * 2 - 2 / 2 - 2 ** 2\n",
    "a = (2 * 2) - (2 / 2) - (2 ** 2) # 1st way\n",
    "a = 2*2 - 2/2 - 2**2 # 2nd way\n",
    "a"
   ]
  },
  {
   "cell_type": "code",
   "execution_count": null,
   "id": "450bb370",
   "metadata": {},
   "outputs": [
    {
     "name": "stdout",
     "output_type": "stream",
     "text": [
      "5\n"
     ]
    }
   ],
   "source": [
    "n = int(input())\n",
    "print(n+1)"
   ]
  },
  {
   "cell_type": "markdown",
   "id": "c9f14f07",
   "metadata": {},
   "source": [
    "## Variable Adjustmets"
   ]
  },
  {
   "cell_type": "code",
   "execution_count": null,
   "id": "ac8b890d",
   "metadata": {},
   "outputs": [
    {
     "name": "stdout",
     "output_type": "stream",
     "text": [
      "1.5\n"
     ]
    }
   ],
   "source": [
    "a = 4 + 4 # 8\n",
    "b = 3 * 2 # 6\n",
    "a = a + 1 # 9\n",
    "a = a // 2 # 4\n",
    "\n",
    "a = b / a # 6 / 4\n",
    "print(a)"
   ]
  },
  {
   "cell_type": "markdown",
   "id": "6fbfb053",
   "metadata": {},
   "source": [
    "Short hand"
   ]
  },
  {
   "cell_type": "code",
   "execution_count": null,
   "id": "4e99a49f",
   "metadata": {},
   "outputs": [],
   "source": [
    "a = a + 1\n",
    "a += 1\n",
    "\n",
    "a = a - 5\n",
    "a -= 5\n",
    "\n",
    "a = a * 3\n",
    "a *= 3\n",
    "\n",
    "a = a / 5\n",
    "a /= 5\n",
    "\n",
    "a = a // 2\n",
    "a //= 2\n",
    "\n",
    "a = a ** 2\n",
    "a **= 2"
   ]
  },
  {
   "cell_type": "code",
   "execution_count": null,
   "id": "1620028c",
   "metadata": {},
   "outputs": [
    {
     "name": "stdout",
     "output_type": "stream",
     "text": [
      "2\n"
     ]
    }
   ],
   "source": [
    "a = 5\n",
    "\n",
    "a = a % 3\n",
    "a %= 3\n",
    "print(a)"
   ]
  },
  {
   "cell_type": "markdown",
   "id": "3c725722",
   "metadata": {},
   "source": [
    "### Logical Operations"
   ]
  },
  {
   "cell_type": "markdown",
   "id": "1bb39c74",
   "metadata": {},
   "source": [
    "`Proposition` (n.): statement that you can assign boolean value to it.\n",
    "\n",
    "`You are male.` is a proposition \n",
    "\n",
    "`Are you male?/Don't eat in the classroom.` is NOT a proposition"
   ]
  },
  {
   "cell_type": "code",
   "execution_count": null,
   "id": "64a6ed04",
   "metadata": {},
   "outputs": [
    {
     "data": {
      "text/plain": [
       "True"
      ]
     },
     "execution_count": 113,
     "metadata": {},
     "output_type": "execute_result"
    }
   ],
   "source": [
    "a = 5\n",
    "\n",
    "2 > 3 # False\n",
    "a < 7 # True\n",
    "2 >= 3 # False\n",
    "2 <= 3 # True\n",
    "2 == 4 # Flase\n",
    "2 != 4 # True"
   ]
  },
  {
   "cell_type": "code",
   "execution_count": null,
   "id": "0b4d298e",
   "metadata": {},
   "outputs": [
    {
     "name": "stdout",
     "output_type": "stream",
     "text": [
      "False\n"
     ]
    }
   ],
   "source": [
    "print(4 > 3 > 3 > 1)\n",
    "print((4 > 3) and (3 > 3) and (3 > 1))"
   ]
  },
  {
   "cell_type": "code",
   "execution_count": null,
   "id": "144c6cda",
   "metadata": {},
   "outputs": [
    {
     "name": "stdout",
     "output_type": "stream",
     "text": [
      "False\n"
     ]
    }
   ],
   "source": [
    "print(3 != 2 != 2)\n",
    "print(3 != 2 and 2 != 2)"
   ]
  },
  {
   "cell_type": "code",
   "execution_count": 119,
   "id": "2ebebc83",
   "metadata": {},
   "outputs": [
    {
     "name": "stdout",
     "output_type": "stream",
     "text": [
      "False\n",
      "False\n"
     ]
    },
    {
     "data": {
      "text/plain": [
       "True"
      ]
     },
     "execution_count": 119,
     "metadata": {},
     "output_type": "execute_result"
    }
   ],
   "source": [
    "# not, and, or\n",
    "print(not True)\n",
    "print((not 1) > 2)\n",
    "\n",
    "2 > 3 and 3 > 1 # False\n",
    "2 > 3 or 3 > 1 # True"
   ]
  },
  {
   "cell_type": "code",
   "execution_count": 120,
   "id": "f439cd67",
   "metadata": {},
   "outputs": [
    {
     "name": "stdout",
     "output_type": "stream",
     "text": [
      "True\n"
     ]
    }
   ],
   "source": [
    "a = 5\n",
    "b = 6\n",
    "print(a != b-1 or b**2 > a)"
   ]
  },
  {
   "cell_type": "code",
   "execution_count": 122,
   "id": "31777724",
   "metadata": {},
   "outputs": [
    {
     "name": "stdout",
     "output_type": "stream",
     "text": [
      "True\n"
     ]
    }
   ],
   "source": [
    "a = 0\n",
    "b = 2\n",
    "print(a != b-1 or a)"
   ]
  },
  {
   "cell_type": "code",
   "execution_count": null,
   "id": "13a44e27",
   "metadata": {},
   "outputs": [
    {
     "name": "stdout",
     "output_type": "stream",
     "text": [
      "True\n",
      "0\n",
      "0\n",
      "1\n",
      "0\n"
     ]
    }
   ],
   "source": [
    "# Will stop at the first true or the last\n",
    "print(True or 0)\n",
    "print(0 or 0)\n",
    "print(0 or 1)\n",
    "\n",
    "# Will stop at the first false or the last\n",
    "print(True and 0)\n",
    "print(True and 1 and 0 and 5)"
   ]
  },
  {
   "cell_type": "code",
   "execution_count": 140,
   "id": "8e7087d8",
   "metadata": {},
   "outputs": [
    {
     "name": "stdout",
     "output_type": "stream",
     "text": [
      "True\n",
      "5\n",
      "True\n"
     ]
    }
   ],
   "source": [
    "print(5 and True)\n",
    "print(5 or True)\n",
    "print(True or 5)"
   ]
  },
  {
   "cell_type": "code",
   "execution_count": 138,
   "id": "c78202b1",
   "metadata": {},
   "outputs": [
    {
     "data": {
      "text/plain": [
       "0"
      ]
     },
     "execution_count": 138,
     "metadata": {},
     "output_type": "execute_result"
    }
   ],
   "source": [
    "False or 0"
   ]
  }
 ],
 "metadata": {
  "kernelspec": {
   "display_name": "python3_ml",
   "language": "python",
   "name": "python3"
  },
  "language_info": {
   "codemirror_mode": {
    "name": "ipython",
    "version": 3
   },
   "file_extension": ".py",
   "mimetype": "text/x-python",
   "name": "python",
   "nbconvert_exporter": "python",
   "pygments_lexer": "ipython3",
   "version": "3.13.5"
  }
 },
 "nbformat": 4,
 "nbformat_minor": 5
}
